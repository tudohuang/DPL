{
 "cells": [
  {
   "cell_type": "markdown",
   "metadata": {},
   "source": [
    "# 頻譜分析與濾波處理\n",
    "本 Notebook 展示了DPL如何對信號進行濾波處理與頻譜分析，並可視化處理結果。\n",
    "\n",
    "## 功能\n",
    "1. 載入信號數據\n",
    "2. 計算取樣率\n",
    "3. 使用運行數位濾波器進一步處理\n",
    "4. 快速傅立葉變換（FFT）進行頻譜分析\n",
    "5. 可視化頻譜結果\n"
   ]
  },
  {
   "cell_type": "code",
   "execution_count": null,
   "metadata": {},
   "outputs": [],
   "source": [
    "import numpy as np\n",
    "import matplotlib.pyplot as plt\n",
    "from scipy.signal import sosfilt, butter, lfilter\n",
    "\n",
    "# 定義運行平均濾波器的窗口長度\n",
    "idx = 20\n",
    "data = np.loadtxt(r\"filename\", delimiter=',')\n",
    "offset = int(data.size*0.05)\n",
    "signal = data[offset:-offset,1]\n",
    "time = data[offset:-offset,0]\n"
   ]
  },
  {
   "cell_type": "markdown",
   "metadata": {},
   "source": [
    "## 計算取樣率\n",
    "由於ESP32本身CLK的缺陷，$f_s$相當的不穩定，故我們動態修正不同次實驗的$f_s$以最佳化實驗結果。\n",
    "修正公式如下:\n",
    "$$\n",
    "f_s = \\frac{N}{T}\n",
    "$$\n",
    "\n",
    "其中：\n",
    "- $f_s$ 是取樣率（Sampling Rate）。\n",
    "- $N$  是取樣點數。\n",
    "- $T$  是信號總持續時間。(由`time()`函式計算)"
   ]
  },
  {
   "cell_type": "code",
   "execution_count": null,
   "metadata": {},
   "outputs": [],
   "source": [
    "sampling_rate = data.shape[0]/(data[-1,0]-data[0,0])\n",
    "print('Sampling rate:', sampling_rate)\n"
   ]
  },
  {
   "cell_type": "markdown",
   "metadata": {},
   "source": [
    "## 運用數位濾波器\n"
   ]
  },
  {
   "cell_type": "code",
   "execution_count": null,
   "metadata": {},
   "outputs": [],
   "source": [
    "# 定義濾波器參數\n",
    "cutoff_frequency = 0.1  # in Hz\n",
    "order = 8  # Higher filter order\n",
    "\n",
    "# Design high-pass filter using Butterworth with higher order\n",
    "sos = butter(order, cutoff_frequency, btype='high', fs=sampling_rate, output='sos')\n",
    "\n",
    "# 使用之前設計的濾波器係數進行濾波\n",
    "filtered_signal = sosfilt(sos, signal)\n",
    "\n",
    "\n",
    "signal2 = np.abs(filtered_signal)\n",
    "\n",
    "window_length = 100\n",
    "b = np.ones(window_length) / window_length  # 分子係數\n",
    "a = 1  # 分母係數\n",
    "\n",
    "# 使用 lfilter 應用運行平均濾波器\n",
    "signal3 = lfilter(b, a, signal2)"
   ]
  },
  {
   "cell_type": "markdown",
   "metadata": {},
   "source": [
    "## 快速傅立葉變換（FFT）\n",
    "對信號進行頻譜分析，並找到最高頻率分量。\n"
   ]
  },
  {
   "cell_type": "code",
   "execution_count": null,
   "metadata": {},
   "outputs": [],
   "source": [
    "signal4 = np.abs(np.fft.fft(signal))\n",
    "\n",
    "checkhz_len = int(5/(sampling_rate/signal4.size)) #最高檢查5H整\n",
    "max_indx = (np.argmax(signal4[1:checkhz_len]) + 1)\n",
    "max_hz = max_indx * sampling_rate/signal4.size\n",
    "max_spec = signal4[max_indx]\n",
    "print('Maximum Frequency:', max_hz)\n"
   ]
  },
  {
   "cell_type": "markdown",
   "metadata": {},
   "source": [
    "## 頻譜可視化\n",
    "繪製信號的頻譜圖，並標註最大頻率分量。\n"
   ]
  },
  {
   "cell_type": "code",
   "execution_count": null,
   "metadata": {},
   "outputs": [],
   "source": [
    "plt.ylabel('Amplitude', fontsize=15)\n",
    "plt.xlabel('Frequency [Hz]', fontsize=15)\n",
    "plt.title('Frequency Spectrum', fontsize=20)\n",
    "plt.plot(sampling_rate/signal4.size*np.arange(1, checkhz_len), signal4[1:checkhz_len])\n",
    "plt.plot(max_hz, max_spec, 'r*')\n",
    "plt.show()\n"
   ]
  }
 ],
 "metadata": {
  "kernelspec": {
   "display_name": "Python 3",
   "language": "python",
   "name": "python3"
  },
  "language_info": {
   "codemirror_mode": {
    "name": "ipython",
    "version": 3
   },
   "file_extension": ".py",
   "mimetype": "text/x-python",
   "name": "python",
   "nbconvert_exporter": "python",
   "pygments_lexer": "ipython3",
   "version": "3.8.10"
  }
 },
 "nbformat": 4,
 "nbformat_minor": 2
}
